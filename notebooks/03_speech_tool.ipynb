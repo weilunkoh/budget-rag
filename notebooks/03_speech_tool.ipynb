{
 "cells": [
  {
   "cell_type": "markdown",
   "metadata": {},
   "source": [
    "# Speech Tool\n",
    "\n",
    "For queries that require the entire document to be passed in such as the debate round up speech and the statement"
   ]
  },
  {
   "cell_type": "markdown",
   "metadata": {},
   "source": [
    "### Imports"
   ]
  },
  {
   "cell_type": "code",
   "execution_count": 24,
   "metadata": {},
   "outputs": [],
   "source": [
    "from llama_index.core.workflow import Context, StartEvent, StopEvent, Workflow, step\n",
    "from llama_index.llms.openai import OpenAI\n",
    "import tiktoken"
   ]
  },
  {
   "cell_type": "markdown",
   "metadata": {},
   "source": [
    "### Simple Base Class"
   ]
  },
  {
   "cell_type": "code",
   "execution_count": null,
   "metadata": {},
   "outputs": [],
   "source": [
    "class EntireTextWorkflow(Workflow):\n",
    "    def __init__(self, text_file: str, llm):\n",
    "        super().__init__()\n",
    "        self.text_file = text_file\n",
    "        with open(text_file, 'r', encoding=\"utf-8\") as f:\n",
    "            self.text = f.read()\n",
    "        self.llm = llm\n",
    "    \n",
    "    @step\n",
    "    async def ask_text_file(self, ctx: Context, ev: StartEvent) -> StopEvent | None:\n",
    "        query = ev.get(\"query\")\n",
    "        if not query:\n",
    "            return None\n",
    "        \n",
    "        prompt = f\"Context: {self.text} Query: {query}\"\n",
    "        response = await self.llm.astream_complete(prompt)\n",
    "        return StopEvent(result=response)"
   ]
  },
  {
   "cell_type": "markdown",
   "metadata": {},
   "source": [
    "### Workflow for Speech"
   ]
  },
  {
   "cell_type": "code",
   "execution_count": null,
   "metadata": {},
   "outputs": [],
   "source": [
    "speech_workflow = EntireTextWorkflow(\n",
    "    text_file=\"../data/entire_text/fy2024_budget_debate_round_up_speech.txt\",\n",
    "    llm=OpenAI(model=\"gpt-4o-mini\", temperature=0)\n",
    ")"
   ]
  },
  {
   "cell_type": "code",
   "execution_count": 28,
   "metadata": {},
   "outputs": [
    {
     "name": "stdout",
     "output_type": "stream",
     "text": [
      "1. Mr Yip Hon Weng, Mr Gan Thiam Poh, Mr Henry Kwek, Ms Hazel Poa - Spoke about helping Singaporeans cope with inflation and cost pressures.\n",
      "2. Ms Ng Ling Ling, Mr Ong Hua Han, Mr Faisal Manap - Highlighted specific cost items such as housing and transport.\n",
      "3. Ms Jessica Tan, Mr Saktiandi Supaat, Mr Shawn Huang, Mr Sharael Taha, Mr Vikram Nair - Discussed sustaining growth and helping Singaporeans secure a better future.\n",
      "4. Mr Chong Kee Hiong, Mr Keith Chua, Mr Neil Parekh, Mr Derrick Goh, Mr Mark Lee - Spoke about supporting companies, especially SMEs, in their restructuring journey.\n",
      "5. Mr Louis Ng - Emphasized the importance of taking care of foreign workers.\n",
      "6. Mr Patrick Tay - Provided suggestions for a jobseeker support scheme.\n",
      "7. Mr Pritam Singh, Associate Professor Jamus Lim, Mr Christopher de Souza, Mr Gerald Giam, Mr Desmond Choo, Mr Syed Harun - Discussed the SkillsFuture Level-Up Programme.\n",
      "8. Ms Joan Pereira, Mr Lim Biow Chuan, Mr Yip Hon Weng - Raised concerns about the impact of Property Tax increase on seniors and retirees.\n",
      "9. Mr Liang Eng Hwa, Mr Louis Chua, Mr Pritam Singh - Sought clarifications on the potential revenue impact from the BEPS Pillar Two moves."
     ]
    }
   ],
   "source": [
    "result = await speech_workflow.run(query=\"Which members of parliaments (MPs) spoke and what did they speak about? Provide a list of MPs and their topics.\")\n",
    "async for chunk in result:\n",
    "    print(chunk.delta, end=\"\", flush=True)"
   ]
  },
  {
   "cell_type": "code",
   "execution_count": 29,
   "metadata": {},
   "outputs": [
    {
     "name": "stdout",
     "output_type": "stream",
     "text": [
      "The main themes of the debate are:\n",
      "\n",
      "1. Coping with Inflation: The government addresses concerns about inflation and rising prices, highlighting the global factors contributing to inflation and the measures taken to mitigate its impact on Singaporeans. They emphasize the targeted support provided through enhancements to the Assurance Package and other schemes to help lower- and middle-income households cope with inflation.\n",
      "\n",
      "2. Sustaining Growth and Securing a Better Future: The government discusses the importance of sustaining economic growth and helping Singaporeans secure a better future. They highlight the need for productivity improvements, attracting high-quality investments, and supporting workers through skills development and job opportunities. The focus is on creating a competitive economy that benefits all Singaporeans.\n",
      "\n",
      "3. Social Support and Fiscal Responsibility: The government emphasizes the importance of a strong social support system and fiscal responsibility. They discuss the various social safety nets in place, the fair and progressive tax system, and the need to plan ahead for future fiscal challenges. The government stresses the importance of maintaining a sustainable fiscal position and ensuring resources are available for current and future generations."
     ]
    }
   ],
   "source": [
    "result = await speech_workflow.run(query=\"Which are the main themes of the debate? Give a summary for each theme.\")\n",
    "async for chunk in result:\n",
    "    print(chunk.delta, end=\"\", flush=True)"
   ]
  },
  {
   "cell_type": "markdown",
   "metadata": {},
   "source": [
    "### Workflow for Statement"
   ]
  },
  {
   "cell_type": "code",
   "execution_count": 33,
   "metadata": {},
   "outputs": [],
   "source": [
    "statement_workflow = EntireTextWorkflow(\n",
    "    text_file=\"../data/entire_text/fy2024_budget_statement.txt\",\n",
    "    llm=OpenAI(model=\"gpt-4o-mini\", temperature=0)\n",
    ")"
   ]
  },
  {
   "cell_type": "code",
   "execution_count": 31,
   "metadata": {},
   "outputs": [
    {
     "name": "stdout",
     "output_type": "stream",
     "text": [
      "Here are some questions that can be asked about the budget statement:\n",
      "\n",
      "1. **Economic Outlook**: What are the key factors influencing the projected GDP growth of 1.0% to 3.0% for 2024, and how does this compare to previous years?\n",
      "\n",
      "2. **Cost-of-Living Support**: How effective are the measures in the Assurance Package in alleviating the financial pressures faced by households, particularly lower-income families?\n",
      "\n",
      "3. **Investment Strategies**: What specific sectors or industries are targeted for the new Refundable Investment Credit, and how will this impact job creation in Singapore?\n",
      "\n",
      "4. **SkillsFuture Initiatives**: How will the new SkillsFuture Level-Up Programme specifically address the needs of mid-career workers, and what metrics will be used to evaluate its success?\n",
      "\n",
      "5. **Wage Gaps**: What additional measures will be taken to further reduce wage disparities among different professions, especially for lower-wage workers?\n",
      "\n",
      "6. **Healthcare Funding**: How will the government ensure that the rising healthcare costs are managed sustainably, especially with an ageing population?\n",
      "\n",
      "7. **Fiscal Responsibility**: What steps will be taken to maintain a balanced budget in light of increasing government spending, particularly in healthcare and social services?\n",
      "\n",
      "8. **Social Mobility**: How will the ComLink+ initiative specifically support families from lower-income backgrounds in achieving better social mobility?\n",
      "\n",
      "9. **Environmental Sustainability**: What are the long-term plans for transitioning to cleaner energy sources, and how will the Future Energy Fund be utilized to support this transition?\n",
      "\n",
      "10. **National Security**: How does the budget address emerging threats in the digital domain, and what specific investments are being made to enhance cybersecurity?\n",
      "\n",
      "11. **Community Support**: What role will community organizations play in the implementation of the new social support measures, and how will their effectiveness be assessed?\n",
      "\n",
      "12. **Public Engagement**: How will the government engage with citizens to gather feedback on the effectiveness of the budget measures and ensure transparency in the allocation of funds?\n",
      "\n",
      "These questions can help facilitate discussions about the implications and effectiveness of the budget measures outlined in the speech."
     ]
    }
   ],
   "source": [
    "result = await statement_workflow.run(query=\"Which are some questions that can be asked about the budget statement?\")\n",
    "async for chunk in result:\n",
    "    print(chunk.delta, end=\"\", flush=True)"
   ]
  },
  {
   "cell_type": "code",
   "execution_count": 32,
   "metadata": {},
   "outputs": [
    {
     "name": "stdout",
     "output_type": "stream",
     "text": [
      "The Budget 2024 speech outlines several major themes focused on building a resilient and inclusive future for Singapore. Here are the key themes:\n",
      "\n",
      "1. **Economic Growth and Stability**: The government emphasizes the importance of pursuing sustainable economic growth, aiming for an average growth rate of 2% to 3% over the next decade. This includes attracting high-quality investments, enhancing productivity, and supporting local enterprises.\n",
      "\n",
      "2. **Cost of Living Support**: Recognizing the pressures of rising living costs, the budget introduces various assistance measures for households, including cash payments, vouchers, and rebates to alleviate financial burdens.\n",
      "\n",
      "3. **Equipping Workers for the Future**: The speech highlights the need for continuous skills upgrading through the SkillsFuture initiative, particularly for mid-career workers. New programs are introduced to support reskilling and lifelong learning.\n",
      "\n",
      "4. **Social Mobility and Equality**: The government aims to reduce income inequality and enhance social mobility through targeted measures such as the Workfare Income Supplement and support for lower-wage workers. The focus is on creating pathways for all Singaporeans to succeed.\n",
      "\n",
      "5. **Support for Families and Seniors**: The budget outlines plans to strengthen support for families at various life stages, including affordable childcare, housing assistance, and enhanced retirement savings schemes for seniors.\n",
      "\n",
      "6. **National Resilience and Security**: The speech addresses the need for a strong defense and security framework, including cyber defense and energy security, particularly in light of global uncertainties and the energy transition.\n",
      "\n",
      "7. **Fiscal Responsibility**: The budget underscores the importance of maintaining a strong fiscal position, with careful management of public finances to ensure sustainability and the ability to fund future initiatives.\n",
      "\n",
      "8. **Community and National Unity**: The government emphasizes the importance of social cohesion and community support, encouraging a culture of giving and collaboration among Singaporeans to strengthen national identity and resilience.\n",
      "\n",
      "Overall, the Budget 2024 speech reflects a comprehensive approach to addressing immediate challenges while laying the groundwork for a more equitable, resilient, and prosperous future for all Singaporeans."
     ]
    }
   ],
   "source": [
    "result = await statement_workflow.run(query=\"Summarise the major themes of the budget statement.\")\n",
    "async for chunk in result:\n",
    "    print(chunk.delta, end=\"\", flush=True)"
   ]
  }
 ],
 "metadata": {
  "kernelspec": {
   "display_name": "budget-rag",
   "language": "python",
   "name": "python3"
  },
  "language_info": {
   "codemirror_mode": {
    "name": "ipython",
    "version": 3
   },
   "file_extension": ".py",
   "mimetype": "text/x-python",
   "name": "python",
   "nbconvert_exporter": "python",
   "pygments_lexer": "ipython3",
   "version": "3.11.10"
  }
 },
 "nbformat": 4,
 "nbformat_minor": 2
}
