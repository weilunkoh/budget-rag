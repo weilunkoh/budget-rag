{
 "cells": [
  {
   "cell_type": "markdown",
   "metadata": {},
   "source": [
    "# Basic RAG with llama-index\n",
    "\n",
    "- LLM: GPT-4o mini\n",
    "- Embedder: BAAI/bge-small-en-v1.5\n",
    "- Reranker: BAAI/bge-reranker-base"
   ]
  },
  {
   "cell_type": "markdown",
   "metadata": {},
   "source": [
    "### Imports"
   ]
  },
  {
   "cell_type": "code",
   "execution_count": 1,
   "metadata": {},
   "outputs": [],
   "source": [
    "from llama_index.core import VectorStoreIndex, SimpleDirectoryReader, Settings\n",
    "from llama_index.vector_stores.chroma import ChromaVectorStore\n",
    "from llama_index.embeddings.huggingface import HuggingFaceEmbedding\n",
    "from llama_index.llms.openai import OpenAI\n",
    "\n",
    "from llama_index.core.workflow import Event\n",
    "from llama_index.core.schema import NodeWithScore\n",
    "\n",
    "\n",
    "from llama_index.postprocessor.flag_embedding_reranker import FlagEmbeddingReranker\n",
    "\n",
    "from llama_index.core.response_synthesizers import CompactAndRefine\n",
    "from llama_index.core.workflow import (\n",
    "    Context,\n",
    "    Workflow,\n",
    "    StartEvent,\n",
    "    StopEvent,\n",
    "    step,\n",
    ")\n",
    "\n",
    "from dotenv import load_dotenv\n",
    "import nest_asyncio"
   ]
  },
  {
   "cell_type": "markdown",
   "metadata": {},
   "source": [
    "### Initial Setup"
   ]
  },
  {
   "cell_type": "code",
   "execution_count": 2,
   "metadata": {},
   "outputs": [],
   "source": [
    "load_dotenv(\"../.env\")\n",
    "nest_asyncio.apply()"
   ]
  },
  {
   "cell_type": "code",
   "execution_count": 3,
   "metadata": {},
   "outputs": [],
   "source": [
    "# loads GPT-4o MINI from OpenAI\n",
    "llm = OpenAI(model_name=\"gpt-4o-mini\", temperature=0)\n",
    "# Settings.llm = llm # check if this is needed\n",
    "\n",
    "# loads BAAI/bge-small-en-v1.5\n",
    "embed_model = HuggingFaceEmbedding(model_name=\"BAAI/bge-small-en-v1.5\")\n",
    "# Settings.embed_model = embed_model # check if this is needed\n",
    "\n",
    "# loads BAAI/bge-reranker-base\n",
    "reranker_model = FlagEmbeddingReranker(model=\"BAAI/bge-reranker-base\", top_n=3)"
   ]
  },
  {
   "cell_type": "markdown",
   "metadata": {},
   "source": [
    "### RAG with llama-index Workflows"
   ]
  },
  {
   "cell_type": "code",
   "execution_count": 4,
   "metadata": {},
   "outputs": [],
   "source": [
    "class RetrieverEvent(Event):\n",
    "    \"\"\"Result of running retrieval\"\"\"\n",
    "\n",
    "    nodes: list[NodeWithScore]\n",
    "\n",
    "\n",
    "class RerankEvent(Event):\n",
    "    \"\"\"Result of running reranking on retrieved nodes\"\"\"\n",
    "\n",
    "    nodes: list[NodeWithScore]"
   ]
  },
  {
   "cell_type": "code",
   "execution_count": 5,
   "metadata": {},
   "outputs": [],
   "source": [
    "class RAGWorkflow(Workflow):\n",
    "\n",
    "    def __init__(self, llm, embed_model, reranker_model, index=None):\n",
    "        super().__init__()\n",
    "        self.llm = llm\n",
    "        self.embed_model = embed_model\n",
    "        self.reranker_model = reranker_model\n",
    "        self.index = index      \n",
    "\n",
    "    @step\n",
    "    async def ingest(self, ctx: Context, ev: StartEvent) -> StopEvent | None:\n",
    "        \"\"\"Entry point to ingest a document, triggered by a StartEvent with `dirname`.\"\"\"\n",
    "        dirname = ev.get(\"dirname\")\n",
    "        if not dirname:\n",
    "            return None\n",
    "\n",
    "        documents = SimpleDirectoryReader(dirname).load_data()\n",
    "        self.index = VectorStoreIndex.from_documents(\n",
    "            documents=documents,\n",
    "            embed_model=self.embed_model,\n",
    "            # embed_model=OpenAIEmbedding(model_name=\"text-embedding-3-small\"),\n",
    "        )\n",
    "        return StopEvent(result=self.index)\n",
    "\n",
    "    @step\n",
    "    async def retrieve(\n",
    "        self, ctx: Context, ev: StartEvent\n",
    "    ) -> RetrieverEvent | None:\n",
    "        \"Entry point for RAG, triggered by a StartEvent with `query`.\"\n",
    "        query = ev.get(\"query\")\n",
    "        # index = ev.get(\"index\")\n",
    "\n",
    "        if not query:\n",
    "            return None\n",
    "\n",
    "        print(f\"Query the database with: {query}\")\n",
    "\n",
    "        # store the query in the global context\n",
    "        await ctx.set(\"query\", query)\n",
    "\n",
    "        # get the index from the global context\n",
    "        # if index is None:\n",
    "        #     print(\"Index is empty, load some documents before querying!\")\n",
    "        #     return None\n",
    "        if self.index is None:\n",
    "            print(\"Index is empty, load some documents before querying!\")\n",
    "            return None\n",
    "\n",
    "        retriever = self.index.as_retriever(similarity_top_k=2)\n",
    "        nodes = await retriever.aretrieve(query)\n",
    "        print(f\"Retrieved {len(nodes)} nodes.\")\n",
    "        return RetrieverEvent(nodes=nodes)\n",
    "\n",
    "    @step\n",
    "    async def rerank(self, ctx: Context, ev: RetrieverEvent) -> RerankEvent:\n",
    "        # Rerank the nodes\n",
    "        # ranker = LLMRerank(\n",
    "        #     choice_batch_size=5, top_n=3, llm=OpenAI(model=\"gpt-4o-mini\")\n",
    "        # )\n",
    "        ranker = self.reranker_model\n",
    "        print(await ctx.get(\"query\", default=None), flush=True)\n",
    "        new_nodes = ranker.postprocess_nodes(\n",
    "            ev.nodes, query_str=await ctx.get(\"query\", default=None)\n",
    "        )\n",
    "        print(f\"Reranked nodes to {len(new_nodes)}\")\n",
    "        return RerankEvent(nodes=new_nodes)\n",
    "\n",
    "    @step\n",
    "    async def synthesize(self, ctx: Context, ev: RerankEvent) -> StopEvent:\n",
    "        \"\"\"Return a streaming response using reranked nodes.\"\"\"\n",
    "        # llm = OpenAI(model=\"gpt-4o-mini\")\n",
    "        # summarizer = CompactAndRefine(llm=llm, streaming=True, verbose=True)\n",
    "        summarizer = CompactAndRefine(llm=llm, streaming=True, verbose=True)\n",
    "        query = await ctx.get(\"query\", default=None)\n",
    "\n",
    "        response = await summarizer.asynthesize(query, nodes=ev.nodes)\n",
    "\n",
    "        # response = None\n",
    "        print(ev.nodes)\n",
    "        print(\"---\")\n",
    "        print(ev.nodes[0].text)\n",
    "        print(\"---------------\")\n",
    "        print(ev.nodes[1].text)\n",
    "        return StopEvent(result=response)"
   ]
  },
  {
   "cell_type": "markdown",
   "metadata": {},
   "source": [
    "### Data Ingestion"
   ]
  },
  {
   "cell_type": "code",
   "execution_count": 6,
   "metadata": {},
   "outputs": [],
   "source": [
    "w = RAGWorkflow(\n",
    "    llm=llm,\n",
    "    embed_model=embed_model,\n",
    "    reranker_model=reranker_model\n",
    ")\n",
    "\n",
    "# Ingest the documents\n",
    "index = await w.run(dirname=\"../data/budget_statement_annex\")"
   ]
  },
  {
   "cell_type": "code",
   "execution_count": 10,
   "metadata": {},
   "outputs": [
    {
     "data": {
      "text/plain": [
       "<llama_index.core.storage.docstore.simple_docstore.SimpleDocumentStore at 0x1f7e6360310>"
      ]
     },
     "execution_count": 10,
     "metadata": {},
     "output_type": "execute_result"
    }
   ],
   "source": [
    "index.docstore"
   ]
  },
  {
   "cell_type": "code",
   "execution_count": 13,
   "metadata": {},
   "outputs": [
    {
     "name": "stdout",
     "output_type": "stream",
     "text": [
      "_use_async\n",
      "_store_nodes_override\n",
      "_embed_model\n",
      "_insert_batch_size\n",
      "_storage_context\n",
      "_docstore\n",
      "_show_progress\n",
      "_vector_store\n",
      "_graph_store\n",
      "_callback_manager\n",
      "_object_map\n",
      "_index_struct\n",
      "_transformations\n"
     ]
    }
   ],
   "source": [
    "for key in index.__dict__:\n",
    "    print(key)"
   ]
  },
  {
   "cell_type": "code",
   "execution_count": 11,
   "metadata": {},
   "outputs": [
    {
     "data": {
      "text/plain": [
       "<llama_index.core.indices.vector_store.retrievers.retriever.VectorIndexRetriever at 0x1f7e5382a90>"
      ]
     },
     "execution_count": 11,
     "metadata": {},
     "output_type": "execute_result"
    }
   ],
   "source": [
    "retriever = index.as_retriever(similarity_top_k=2)\n",
    "retriever"
   ]
  },
  {
   "cell_type": "code",
   "execution_count": 12,
   "metadata": {},
   "outputs": [
    {
     "name": "stdout",
     "output_type": "stream",
     "text": [
      "_index\n",
      "_vector_store\n",
      "_embed_model\n",
      "_docstore\n",
      "_similarity_top_k\n",
      "_vector_store_query_mode\n",
      "_alpha\n",
      "_node_ids\n",
      "_doc_ids\n",
      "_filters\n",
      "_sparse_top_k\n",
      "_hybrid_top_k\n",
      "_kwargs\n",
      "callback_manager\n",
      "object_map\n",
      "_verbose\n"
     ]
    }
   ],
   "source": [
    "for key in retriever.__dict__:\n",
    "    print(key)"
   ]
  },
  {
   "cell_type": "code",
   "execution_count": 22,
   "metadata": {},
   "outputs": [
    {
     "data": {
      "text/plain": [
       "64"
      ]
     },
     "execution_count": 22,
     "metadata": {},
     "output_type": "execute_result"
    }
   ],
   "source": [
    "len(retriever._vector_store.data.embedding_dict)"
   ]
  },
  {
   "cell_type": "markdown",
   "metadata": {},
   "source": [
    "### Querying"
   ]
  },
  {
   "cell_type": "code",
   "execution_count": 15,
   "metadata": {},
   "outputs": [
    {
     "name": "stdout",
     "output_type": "stream",
     "text": [
      "Query the database with: Am I eligible for the Majulah Package?\n",
      "Retrieved 2 nodes.\n",
      "Am I eligible for the Majulah Package?\n"
     ]
    },
    {
     "name": "stderr",
     "output_type": "stream",
     "text": [
      "pre tokenize:   0%|          | 0/1 [00:00<?, ?it/s]"
     ]
    },
    {
     "name": "stderr",
     "output_type": "stream",
     "text": [
      "You're using a XLMRobertaTokenizerFast tokenizer. Please note that with a fast tokenizer, using the `__call__` method is faster than using a method to encode the text followed by a call to the `pad` method to get a padded encoding.\n",
      "pre tokenize: 100%|██████████| 1/1 [00:00<00:00, 179.57it/s]\n",
      "c:\\Users\\weilu\\anaconda3\\envs\\budget-rag\\Lib\\site-packages\\transformers\\tokenization_utils_base.py:2888: UserWarning: `max_length` is ignored when `padding`=`True` and there is no truncation strategy. To pad to max length, use `padding='max_length'`.\n",
      "  warnings.warn(\n"
     ]
    },
    {
     "name": "stdout",
     "output_type": "stream",
     "text": [
      "Reranked nodes to 2\n",
      "[NodeWithScore(node=TextNode(id_='f1e29b71-bfdb-47de-be1e-2353a90652c9', embedding=None, metadata={'page_label': '1', 'file_name': 'annexf2.pdf', 'file_path': 'c:\\\\Users\\\\weilu\\\\Desktop\\\\AI Codes\\\\budget-rag\\\\data\\\\budget_statement_annex\\\\annexf2.pdf', 'file_type': 'application/pdf', 'file_size': 131302, 'creation_date': '2024-11-20', 'last_modified_date': '2024-11-20'}, excluded_embed_metadata_keys=['file_name', 'file_type', 'file_size', 'creation_date', 'last_modified_date', 'last_accessed_date'], excluded_llm_metadata_keys=['file_name', 'file_type', 'file_size', 'creation_date', 'last_modified_date', 'last_accessed_date'], relationships={<NodeRelationship.SOURCE: '1'>: RelatedNodeInfo(node_id='e1cd33f8-7676-43a0-9ada-542fa8b04ca6', node_type=<ObjectType.DOCUMENT: '4'>, metadata={'page_label': '1', 'file_name': 'annexf2.pdf', 'file_path': 'c:\\\\Users\\\\weilu\\\\Desktop\\\\AI Codes\\\\budget-rag\\\\data\\\\budget_statement_annex\\\\annexf2.pdf', 'file_type': 'application/pdf', 'file_size': 131302, 'creation_date': '2024-11-20', 'last_modified_date': '2024-11-20'}, hash='4f1c1fd24d4c3cfc6b15bb4273cfbe7d0caf7aa830f28aeb17a906700e830739')}, text='1 \\nMINISTRY OF FINANCE \\nANNEX F-2: MAJULAH PACKAGE \\n \\nThe Majulah Package aims to provide Singapore Citizens born in 1973 or earlier, especially \\nthose born in 1960 to 1973 (“Young Seniors”, currently in their 50s and early 60s ), with an \\nadditional boost for their retirement. The Majulah Package comprises the following: \\n \\n(A) Annual Earn and Save Bonus; \\n(B) One-time Retirement Savings Bonus; and \\n(C) One-time MediSave Bonus.  \\n \\nEvery Singaporean born in 1973 or earlier will receive at least one component of the Majulah \\nPackage. The Package will benefit about 1.6 million Singaporeans. \\n \\nThe Majulah Package is estimated to cost $8.2 billion in total  lifetime costs. The Government \\nwill set aside $7.5 billion in a new Fund, the Majulah Package Fund, to fund these lifetime \\ncosts.  \\n \\n(A) Earn and Save Bonus (“ESB”) \\n \\nSingaporeans born in 1973 or earlier will receive the ESB if they meet the following criteria:  \\n \\n(i) Work and have an average monthly income of between $500 and $6,000;  \\n(ii) Live in a residence with Annual Value (“AV”) of $25,000 and below; and  \\n(iii) Own not more than one property.   \\n \\nEligibility for the ESB will be assessed annually, based on income from the preceding Year of \\nAssessment (employment and trade income) as well as AV and property ownership in the \\npreceding year.  \\n \\nThe ESB will be tiered by their average monthly income (see Table 1 below). The first annual \\nESB will be credited to their CPF Retirement Account ( “RA”) or Special Account (“SA”) in \\nMarch 2025.   \\n \\nTable 1: Quantum for the ESB \\nAverage Monthly Income1, 2 Annual Bonus3 \\n$500 to $2,500 $1,000 \\nAbove $2,500 to $3,500  $700 \\nAbove $3,500 to $6,000 $400 \\nNotes: \\n1. Refers to the average monthly income based on the number of months worked in the year. \\n2. Persons with disabilities, workers who qualify for ComCare Short -to-Medium Term Assistance and \\ncaregivers of care recipients (generally include caregivers residing with care recipients who are \\nmedically certified to have permanent moderate to severe disabi lities) will qualify for concessionary \\nESB of $400/year, even if they earn less than $500/month. \\n3. Paid to the CPF RA, or the SA if the RA has not been created.', mimetype='text/plain', start_char_idx=2, end_char_idx=2213, text_template='{metadata_str}\\n\\n{content}', metadata_template='{key}: {value}', metadata_seperator='\\n'), score=1.846112847328186), NodeWithScore(node=TextNode(id_='ff844bfa-b38c-4105-817d-8fef9dced7e6', embedding=None, metadata={'page_label': '1', 'file_name': 'annexf3.pdf', 'file_path': 'c:\\\\Users\\\\weilu\\\\Desktop\\\\AI Codes\\\\budget-rag\\\\data\\\\budget_statement_annex\\\\annexf3.pdf', 'file_type': 'application/pdf', 'file_size': 72890, 'creation_date': '2024-11-20', 'last_modified_date': '2024-11-20'}, excluded_embed_metadata_keys=['file_name', 'file_type', 'file_size', 'creation_date', 'last_modified_date', 'last_accessed_date'], excluded_llm_metadata_keys=['file_name', 'file_type', 'file_size', 'creation_date', 'last_modified_date', 'last_accessed_date'], relationships={<NodeRelationship.SOURCE: '1'>: RelatedNodeInfo(node_id='7f84bef4-e231-42f5-8922-9927d6c6dbee', node_type=<ObjectType.DOCUMENT: '4'>, metadata={'page_label': '1', 'file_name': 'annexf3.pdf', 'file_path': 'c:\\\\Users\\\\weilu\\\\Desktop\\\\AI Codes\\\\budget-rag\\\\data\\\\budget_statement_annex\\\\annexf3.pdf', 'file_type': 'application/pdf', 'file_size': 72890, 'creation_date': '2024-11-20', 'last_modified_date': '2024-11-20'}, hash='227a3791ae2d8fd5e39e783c002f945488144df7a1dfce4f0e5de01304385af2')}, text='1 \\nMINISTRY OF FINANCE \\nANNEX F-3: ONE-TIME MEDISAVE BONUS \\n \\nAs part of the Government’s efforts to help Singaporeans offset healthcare costs and build up \\ntheir medical savings for old age, we will provide a one -time MediSave Bonus to all adult \\nSingaporeans between the ages 21 and 50 (born in 1974 – 2003). (Singaporeans born in 1973 \\nor earlier will benefit from the MediSave Bonus component of the Majulah Package – see \\nAnnex F-2.) \\n \\nThe bonus will be tiered by their year of birth,  the Annual Value (“AV”) of their residence, \\nand whether they own more than one property as at 31 December 2023 (see Table 1 below), \\nand will be credited to their CPF MediSave Account in December 2024.  \\n \\nTable 1: Bonus Quantum \\nSingaporeans born in \\nOwn not more than 1 property Own more \\nthan 1 \\nproperty \\nAV of residence \\nNot more than $25,000 More than $25,000 \\n1974-1983 $300 $200  \\n1984-2003 $200 $100 \\n \\nAbout 1.4 million Singaporeans will receive the bonus, which is estimated to cost $0.3 billion \\nin total. Together with the MediSave Bonus under the Majulah Package for older Singaporeans, \\nwe will collectively provide support for the healthcare costs of about 3 million Singaporeans. \\n \\nMore Information \\n  \\nMeasure Contact Details \\nOne-Time MediSave Bonus Please contact the CPF Board at cpf.gov.sg/contact-us', mimetype='text/plain', start_char_idx=2, end_char_idx=1319, text_template='{metadata_str}\\n\\n{content}', metadata_template='{key}: {value}', metadata_seperator='\\n'), score=-2.7289845943450928)]\n",
      "---\n",
      "1 \n",
      "MINISTRY OF FINANCE \n",
      "ANNEX F-2: MAJULAH PACKAGE \n",
      " \n",
      "The Majulah Package aims to provide Singapore Citizens born in 1973 or earlier, especially \n",
      "those born in 1960 to 1973 (“Young Seniors”, currently in their 50s and early 60s ), with an \n",
      "additional boost for their retirement. The Majulah Package comprises the following: \n",
      " \n",
      "(A) Annual Earn and Save Bonus; \n",
      "(B) One-time Retirement Savings Bonus; and \n",
      "(C) One-time MediSave Bonus.  \n",
      " \n",
      "Every Singaporean born in 1973 or earlier will receive at least one component of the Majulah \n",
      "Package. The Package will benefit about 1.6 million Singaporeans. \n",
      " \n",
      "The Majulah Package is estimated to cost $8.2 billion in total  lifetime costs. The Government \n",
      "will set aside $7.5 billion in a new Fund, the Majulah Package Fund, to fund these lifetime \n",
      "costs.  \n",
      " \n",
      "(A) Earn and Save Bonus (“ESB”) \n",
      " \n",
      "Singaporeans born in 1973 or earlier will receive the ESB if they meet the following criteria:  \n",
      " \n",
      "(i) Work and have an average monthly income of between $500 and $6,000;  \n",
      "(ii) Live in a residence with Annual Value (“AV”) of $25,000 and below; and  \n",
      "(iii) Own not more than one property.   \n",
      " \n",
      "Eligibility for the ESB will be assessed annually, based on income from the preceding Year of \n",
      "Assessment (employment and trade income) as well as AV and property ownership in the \n",
      "preceding year.  \n",
      " \n",
      "The ESB will be tiered by their average monthly income (see Table 1 below). The first annual \n",
      "ESB will be credited to their CPF Retirement Account ( “RA”) or Special Account (“SA”) in \n",
      "March 2025.   \n",
      " \n",
      "Table 1: Quantum for the ESB \n",
      "Average Monthly Income1, 2 Annual Bonus3 \n",
      "$500 to $2,500 $1,000 \n",
      "Above $2,500 to $3,500  $700 \n",
      "Above $3,500 to $6,000 $400 \n",
      "Notes: \n",
      "1. Refers to the average monthly income based on the number of months worked in the year. \n",
      "2. Persons with disabilities, workers who qualify for ComCare Short -to-Medium Term Assistance and \n",
      "caregivers of care recipients (generally include caregivers residing with care recipients who are \n",
      "medically certified to have permanent moderate to severe disabi lities) will qualify for concessionary \n",
      "ESB of $400/year, even if they earn less than $500/month. \n",
      "3. Paid to the CPF RA, or the SA if the RA has not been created.\n",
      "---------------\n",
      "1 \n",
      "MINISTRY OF FINANCE \n",
      "ANNEX F-3: ONE-TIME MEDISAVE BONUS \n",
      " \n",
      "As part of the Government’s efforts to help Singaporeans offset healthcare costs and build up \n",
      "their medical savings for old age, we will provide a one -time MediSave Bonus to all adult \n",
      "Singaporeans between the ages 21 and 50 (born in 1974 – 2003). (Singaporeans born in 1973 \n",
      "or earlier will benefit from the MediSave Bonus component of the Majulah Package – see \n",
      "Annex F-2.) \n",
      " \n",
      "The bonus will be tiered by their year of birth,  the Annual Value (“AV”) of their residence, \n",
      "and whether they own more than one property as at 31 December 2023 (see Table 1 below), \n",
      "and will be credited to their CPF MediSave Account in December 2024.  \n",
      " \n",
      "Table 1: Bonus Quantum \n",
      "Singaporeans born in \n",
      "Own not more than 1 property Own more \n",
      "than 1 \n",
      "property \n",
      "AV of residence \n",
      "Not more than $25,000 More than $25,000 \n",
      "1974-1983 $300 $200  \n",
      "1984-2003 $200 $100 \n",
      " \n",
      "About 1.4 million Singaporeans will receive the bonus, which is estimated to cost $0.3 billion \n",
      "in total. Together with the MediSave Bonus under the Majulah Package for older Singaporeans, \n",
      "we will collectively provide support for the healthcare costs of about 3 million Singaporeans. \n",
      " \n",
      "More Information \n",
      "  \n",
      "Measure Contact Details \n",
      "One-Time MediSave Bonus Please contact the CPF Board at cpf.gov.sg/contact-us\n",
      "You are eligible for the Majulah Package if you were born in 1973 or earlier and meet the specified criteria for each component of the package. The Majulah Package includes the Annual Earn and Save Bonus, One-time Retirement Savings Bonus, and One-time MediSave Bonus. Eligibility for each component is based on different criteria such as income, property ownership, and age."
     ]
    }
   ],
   "source": [
    "# Run a query\n",
    "result = await w.run(query=\"Am I eligible for the Majulah Package?\")\n",
    "async for chunk in result.async_response_gen():\n",
    "    print(chunk, end=\"\", flush=True)"
   ]
  },
  {
   "cell_type": "code",
   "execution_count": 16,
   "metadata": {},
   "outputs": [
    {
     "name": "stdout",
     "output_type": "stream",
     "text": [
      "Query the database with: Am I eligible for the Earn and Save Bonus in the Majulah Package?\n",
      "Retrieved 2 nodes.\n",
      "Am I eligible for the Earn and Save Bonus in the Majulah Package?\n"
     ]
    },
    {
     "name": "stderr",
     "output_type": "stream",
     "text": [
      "pre tokenize: 100%|██████████| 1/1 [00:00<00:00, 325.37it/s]\n"
     ]
    },
    {
     "name": "stdout",
     "output_type": "stream",
     "text": [
      "Reranked nodes to 2\n",
      "[NodeWithScore(node=TextNode(id_='f1e29b71-bfdb-47de-be1e-2353a90652c9', embedding=None, metadata={'page_label': '1', 'file_name': 'annexf2.pdf', 'file_path': 'c:\\\\Users\\\\weilu\\\\Desktop\\\\AI Codes\\\\budget-rag\\\\data\\\\budget_statement_annex\\\\annexf2.pdf', 'file_type': 'application/pdf', 'file_size': 131302, 'creation_date': '2024-11-20', 'last_modified_date': '2024-11-20'}, excluded_embed_metadata_keys=['file_name', 'file_type', 'file_size', 'creation_date', 'last_modified_date', 'last_accessed_date'], excluded_llm_metadata_keys=['file_name', 'file_type', 'file_size', 'creation_date', 'last_modified_date', 'last_accessed_date'], relationships={<NodeRelationship.SOURCE: '1'>: RelatedNodeInfo(node_id='e1cd33f8-7676-43a0-9ada-542fa8b04ca6', node_type=<ObjectType.DOCUMENT: '4'>, metadata={'page_label': '1', 'file_name': 'annexf2.pdf', 'file_path': 'c:\\\\Users\\\\weilu\\\\Desktop\\\\AI Codes\\\\budget-rag\\\\data\\\\budget_statement_annex\\\\annexf2.pdf', 'file_type': 'application/pdf', 'file_size': 131302, 'creation_date': '2024-11-20', 'last_modified_date': '2024-11-20'}, hash='4f1c1fd24d4c3cfc6b15bb4273cfbe7d0caf7aa830f28aeb17a906700e830739')}, text='1 \\nMINISTRY OF FINANCE \\nANNEX F-2: MAJULAH PACKAGE \\n \\nThe Majulah Package aims to provide Singapore Citizens born in 1973 or earlier, especially \\nthose born in 1960 to 1973 (“Young Seniors”, currently in their 50s and early 60s ), with an \\nadditional boost for their retirement. The Majulah Package comprises the following: \\n \\n(A) Annual Earn and Save Bonus; \\n(B) One-time Retirement Savings Bonus; and \\n(C) One-time MediSave Bonus.  \\n \\nEvery Singaporean born in 1973 or earlier will receive at least one component of the Majulah \\nPackage. The Package will benefit about 1.6 million Singaporeans. \\n \\nThe Majulah Package is estimated to cost $8.2 billion in total  lifetime costs. The Government \\nwill set aside $7.5 billion in a new Fund, the Majulah Package Fund, to fund these lifetime \\ncosts.  \\n \\n(A) Earn and Save Bonus (“ESB”) \\n \\nSingaporeans born in 1973 or earlier will receive the ESB if they meet the following criteria:  \\n \\n(i) Work and have an average monthly income of between $500 and $6,000;  \\n(ii) Live in a residence with Annual Value (“AV”) of $25,000 and below; and  \\n(iii) Own not more than one property.   \\n \\nEligibility for the ESB will be assessed annually, based on income from the preceding Year of \\nAssessment (employment and trade income) as well as AV and property ownership in the \\npreceding year.  \\n \\nThe ESB will be tiered by their average monthly income (see Table 1 below). The first annual \\nESB will be credited to their CPF Retirement Account ( “RA”) or Special Account (“SA”) in \\nMarch 2025.   \\n \\nTable 1: Quantum for the ESB \\nAverage Monthly Income1, 2 Annual Bonus3 \\n$500 to $2,500 $1,000 \\nAbove $2,500 to $3,500  $700 \\nAbove $3,500 to $6,000 $400 \\nNotes: \\n1. Refers to the average monthly income based on the number of months worked in the year. \\n2. Persons with disabilities, workers who qualify for ComCare Short -to-Medium Term Assistance and \\ncaregivers of care recipients (generally include caregivers residing with care recipients who are \\nmedically certified to have permanent moderate to severe disabi lities) will qualify for concessionary \\nESB of $400/year, even if they earn less than $500/month. \\n3. Paid to the CPF RA, or the SA if the RA has not been created.', mimetype='text/plain', start_char_idx=2, end_char_idx=2213, text_template='{metadata_str}\\n\\n{content}', metadata_template='{key}: {value}', metadata_seperator='\\n'), score=3.877897262573242), NodeWithScore(node=TextNode(id_='ff844bfa-b38c-4105-817d-8fef9dced7e6', embedding=None, metadata={'page_label': '1', 'file_name': 'annexf3.pdf', 'file_path': 'c:\\\\Users\\\\weilu\\\\Desktop\\\\AI Codes\\\\budget-rag\\\\data\\\\budget_statement_annex\\\\annexf3.pdf', 'file_type': 'application/pdf', 'file_size': 72890, 'creation_date': '2024-11-20', 'last_modified_date': '2024-11-20'}, excluded_embed_metadata_keys=['file_name', 'file_type', 'file_size', 'creation_date', 'last_modified_date', 'last_accessed_date'], excluded_llm_metadata_keys=['file_name', 'file_type', 'file_size', 'creation_date', 'last_modified_date', 'last_accessed_date'], relationships={<NodeRelationship.SOURCE: '1'>: RelatedNodeInfo(node_id='7f84bef4-e231-42f5-8922-9927d6c6dbee', node_type=<ObjectType.DOCUMENT: '4'>, metadata={'page_label': '1', 'file_name': 'annexf3.pdf', 'file_path': 'c:\\\\Users\\\\weilu\\\\Desktop\\\\AI Codes\\\\budget-rag\\\\data\\\\budget_statement_annex\\\\annexf3.pdf', 'file_type': 'application/pdf', 'file_size': 72890, 'creation_date': '2024-11-20', 'last_modified_date': '2024-11-20'}, hash='227a3791ae2d8fd5e39e783c002f945488144df7a1dfce4f0e5de01304385af2')}, text='1 \\nMINISTRY OF FINANCE \\nANNEX F-3: ONE-TIME MEDISAVE BONUS \\n \\nAs part of the Government’s efforts to help Singaporeans offset healthcare costs and build up \\ntheir medical savings for old age, we will provide a one -time MediSave Bonus to all adult \\nSingaporeans between the ages 21 and 50 (born in 1974 – 2003). (Singaporeans born in 1973 \\nor earlier will benefit from the MediSave Bonus component of the Majulah Package – see \\nAnnex F-2.) \\n \\nThe bonus will be tiered by their year of birth,  the Annual Value (“AV”) of their residence, \\nand whether they own more than one property as at 31 December 2023 (see Table 1 below), \\nand will be credited to their CPF MediSave Account in December 2024.  \\n \\nTable 1: Bonus Quantum \\nSingaporeans born in \\nOwn not more than 1 property Own more \\nthan 1 \\nproperty \\nAV of residence \\nNot more than $25,000 More than $25,000 \\n1974-1983 $300 $200  \\n1984-2003 $200 $100 \\n \\nAbout 1.4 million Singaporeans will receive the bonus, which is estimated to cost $0.3 billion \\nin total. Together with the MediSave Bonus under the Majulah Package for older Singaporeans, \\nwe will collectively provide support for the healthcare costs of about 3 million Singaporeans. \\n \\nMore Information \\n  \\nMeasure Contact Details \\nOne-Time MediSave Bonus Please contact the CPF Board at cpf.gov.sg/contact-us', mimetype='text/plain', start_char_idx=2, end_char_idx=1319, text_template='{metadata_str}\\n\\n{content}', metadata_template='{key}: {value}', metadata_seperator='\\n'), score=-2.204538345336914)]\n",
      "---\n",
      "1 \n",
      "MINISTRY OF FINANCE \n",
      "ANNEX F-2: MAJULAH PACKAGE \n",
      " \n",
      "The Majulah Package aims to provide Singapore Citizens born in 1973 or earlier, especially \n",
      "those born in 1960 to 1973 (“Young Seniors”, currently in their 50s and early 60s ), with an \n",
      "additional boost for their retirement. The Majulah Package comprises the following: \n",
      " \n",
      "(A) Annual Earn and Save Bonus; \n",
      "(B) One-time Retirement Savings Bonus; and \n",
      "(C) One-time MediSave Bonus.  \n",
      " \n",
      "Every Singaporean born in 1973 or earlier will receive at least one component of the Majulah \n",
      "Package. The Package will benefit about 1.6 million Singaporeans. \n",
      " \n",
      "The Majulah Package is estimated to cost $8.2 billion in total  lifetime costs. The Government \n",
      "will set aside $7.5 billion in a new Fund, the Majulah Package Fund, to fund these lifetime \n",
      "costs.  \n",
      " \n",
      "(A) Earn and Save Bonus (“ESB”) \n",
      " \n",
      "Singaporeans born in 1973 or earlier will receive the ESB if they meet the following criteria:  \n",
      " \n",
      "(i) Work and have an average monthly income of between $500 and $6,000;  \n",
      "(ii) Live in a residence with Annual Value (“AV”) of $25,000 and below; and  \n",
      "(iii) Own not more than one property.   \n",
      " \n",
      "Eligibility for the ESB will be assessed annually, based on income from the preceding Year of \n",
      "Assessment (employment and trade income) as well as AV and property ownership in the \n",
      "preceding year.  \n",
      " \n",
      "The ESB will be tiered by their average monthly income (see Table 1 below). The first annual \n",
      "ESB will be credited to their CPF Retirement Account ( “RA”) or Special Account (“SA”) in \n",
      "March 2025.   \n",
      " \n",
      "Table 1: Quantum for the ESB \n",
      "Average Monthly Income1, 2 Annual Bonus3 \n",
      "$500 to $2,500 $1,000 \n",
      "Above $2,500 to $3,500  $700 \n",
      "Above $3,500 to $6,000 $400 \n",
      "Notes: \n",
      "1. Refers to the average monthly income based on the number of months worked in the year. \n",
      "2. Persons with disabilities, workers who qualify for ComCare Short -to-Medium Term Assistance and \n",
      "caregivers of care recipients (generally include caregivers residing with care recipients who are \n",
      "medically certified to have permanent moderate to severe disabi lities) will qualify for concessionary \n",
      "ESB of $400/year, even if they earn less than $500/month. \n",
      "3. Paid to the CPF RA, or the SA if the RA has not been created.\n",
      "---------------\n",
      "1 \n",
      "MINISTRY OF FINANCE \n",
      "ANNEX F-3: ONE-TIME MEDISAVE BONUS \n",
      " \n",
      "As part of the Government’s efforts to help Singaporeans offset healthcare costs and build up \n",
      "their medical savings for old age, we will provide a one -time MediSave Bonus to all adult \n",
      "Singaporeans between the ages 21 and 50 (born in 1974 – 2003). (Singaporeans born in 1973 \n",
      "or earlier will benefit from the MediSave Bonus component of the Majulah Package – see \n",
      "Annex F-2.) \n",
      " \n",
      "The bonus will be tiered by their year of birth,  the Annual Value (“AV”) of their residence, \n",
      "and whether they own more than one property as at 31 December 2023 (see Table 1 below), \n",
      "and will be credited to their CPF MediSave Account in December 2024.  \n",
      " \n",
      "Table 1: Bonus Quantum \n",
      "Singaporeans born in \n",
      "Own not more than 1 property Own more \n",
      "than 1 \n",
      "property \n",
      "AV of residence \n",
      "Not more than $25,000 More than $25,000 \n",
      "1974-1983 $300 $200  \n",
      "1984-2003 $200 $100 \n",
      " \n",
      "About 1.4 million Singaporeans will receive the bonus, which is estimated to cost $0.3 billion \n",
      "in total. Together with the MediSave Bonus under the Majulah Package for older Singaporeans, \n",
      "we will collectively provide support for the healthcare costs of about 3 million Singaporeans. \n",
      " \n",
      "More Information \n",
      "  \n",
      "Measure Contact Details \n",
      "One-Time MediSave Bonus Please contact the CPF Board at cpf.gov.sg/contact-us\n",
      "You are eligible for the Earn and Save Bonus in the Majulah Package if you were born in 1973 or earlier, have an average monthly income between $500 and $6,000, live in a residence with an Annual Value of $25,000 and below, and own not more than one property. Eligibility for the bonus will be assessed annually based on income from the preceding Year of Assessment, Annual Value, and property ownership in the preceding year."
     ]
    }
   ],
   "source": [
    "# Run a query\n",
    "result = await w.run(query=\"Am I eligible for the Earn and Save Bonus in the Majulah Package?\")\n",
    "async for chunk in result.async_response_gen():\n",
    "    print(chunk, end=\"\", flush=True)"
   ]
  },
  {
   "cell_type": "code",
   "execution_count": 17,
   "metadata": {},
   "outputs": [
    {
     "name": "stdout",
     "output_type": "stream",
     "text": [
      "Query the database with: Am I eligible for the MediSave Bonus in the Majulah Package?\n",
      "Retrieved 2 nodes.\n",
      "Am I eligible for the MediSave Bonus in the Majulah Package?\n"
     ]
    },
    {
     "name": "stderr",
     "output_type": "stream",
     "text": [
      "pre tokenize: 100%|██████████| 1/1 [00:00<00:00, 498.97it/s]\n"
     ]
    },
    {
     "name": "stdout",
     "output_type": "stream",
     "text": [
      "Reranked nodes to 2\n",
      "[NodeWithScore(node=TextNode(id_='ff844bfa-b38c-4105-817d-8fef9dced7e6', embedding=None, metadata={'page_label': '1', 'file_name': 'annexf3.pdf', 'file_path': 'c:\\\\Users\\\\weilu\\\\Desktop\\\\AI Codes\\\\budget-rag\\\\data\\\\budget_statement_annex\\\\annexf3.pdf', 'file_type': 'application/pdf', 'file_size': 72890, 'creation_date': '2024-11-20', 'last_modified_date': '2024-11-20'}, excluded_embed_metadata_keys=['file_name', 'file_type', 'file_size', 'creation_date', 'last_modified_date', 'last_accessed_date'], excluded_llm_metadata_keys=['file_name', 'file_type', 'file_size', 'creation_date', 'last_modified_date', 'last_accessed_date'], relationships={<NodeRelationship.SOURCE: '1'>: RelatedNodeInfo(node_id='7f84bef4-e231-42f5-8922-9927d6c6dbee', node_type=<ObjectType.DOCUMENT: '4'>, metadata={'page_label': '1', 'file_name': 'annexf3.pdf', 'file_path': 'c:\\\\Users\\\\weilu\\\\Desktop\\\\AI Codes\\\\budget-rag\\\\data\\\\budget_statement_annex\\\\annexf3.pdf', 'file_type': 'application/pdf', 'file_size': 72890, 'creation_date': '2024-11-20', 'last_modified_date': '2024-11-20'}, hash='227a3791ae2d8fd5e39e783c002f945488144df7a1dfce4f0e5de01304385af2')}, text='1 \\nMINISTRY OF FINANCE \\nANNEX F-3: ONE-TIME MEDISAVE BONUS \\n \\nAs part of the Government’s efforts to help Singaporeans offset healthcare costs and build up \\ntheir medical savings for old age, we will provide a one -time MediSave Bonus to all adult \\nSingaporeans between the ages 21 and 50 (born in 1974 – 2003). (Singaporeans born in 1973 \\nor earlier will benefit from the MediSave Bonus component of the Majulah Package – see \\nAnnex F-2.) \\n \\nThe bonus will be tiered by their year of birth,  the Annual Value (“AV”) of their residence, \\nand whether they own more than one property as at 31 December 2023 (see Table 1 below), \\nand will be credited to their CPF MediSave Account in December 2024.  \\n \\nTable 1: Bonus Quantum \\nSingaporeans born in \\nOwn not more than 1 property Own more \\nthan 1 \\nproperty \\nAV of residence \\nNot more than $25,000 More than $25,000 \\n1974-1983 $300 $200  \\n1984-2003 $200 $100 \\n \\nAbout 1.4 million Singaporeans will receive the bonus, which is estimated to cost $0.3 billion \\nin total. Together with the MediSave Bonus under the Majulah Package for older Singaporeans, \\nwe will collectively provide support for the healthcare costs of about 3 million Singaporeans. \\n \\nMore Information \\n  \\nMeasure Contact Details \\nOne-Time MediSave Bonus Please contact the CPF Board at cpf.gov.sg/contact-us', mimetype='text/plain', start_char_idx=2, end_char_idx=1319, text_template='{metadata_str}\\n\\n{content}', metadata_template='{key}: {value}', metadata_seperator='\\n'), score=3.610903263092041), NodeWithScore(node=TextNode(id_='f1e29b71-bfdb-47de-be1e-2353a90652c9', embedding=None, metadata={'page_label': '1', 'file_name': 'annexf2.pdf', 'file_path': 'c:\\\\Users\\\\weilu\\\\Desktop\\\\AI Codes\\\\budget-rag\\\\data\\\\budget_statement_annex\\\\annexf2.pdf', 'file_type': 'application/pdf', 'file_size': 131302, 'creation_date': '2024-11-20', 'last_modified_date': '2024-11-20'}, excluded_embed_metadata_keys=['file_name', 'file_type', 'file_size', 'creation_date', 'last_modified_date', 'last_accessed_date'], excluded_llm_metadata_keys=['file_name', 'file_type', 'file_size', 'creation_date', 'last_modified_date', 'last_accessed_date'], relationships={<NodeRelationship.SOURCE: '1'>: RelatedNodeInfo(node_id='e1cd33f8-7676-43a0-9ada-542fa8b04ca6', node_type=<ObjectType.DOCUMENT: '4'>, metadata={'page_label': '1', 'file_name': 'annexf2.pdf', 'file_path': 'c:\\\\Users\\\\weilu\\\\Desktop\\\\AI Codes\\\\budget-rag\\\\data\\\\budget_statement_annex\\\\annexf2.pdf', 'file_type': 'application/pdf', 'file_size': 131302, 'creation_date': '2024-11-20', 'last_modified_date': '2024-11-20'}, hash='4f1c1fd24d4c3cfc6b15bb4273cfbe7d0caf7aa830f28aeb17a906700e830739')}, text='1 \\nMINISTRY OF FINANCE \\nANNEX F-2: MAJULAH PACKAGE \\n \\nThe Majulah Package aims to provide Singapore Citizens born in 1973 or earlier, especially \\nthose born in 1960 to 1973 (“Young Seniors”, currently in their 50s and early 60s ), with an \\nadditional boost for their retirement. The Majulah Package comprises the following: \\n \\n(A) Annual Earn and Save Bonus; \\n(B) One-time Retirement Savings Bonus; and \\n(C) One-time MediSave Bonus.  \\n \\nEvery Singaporean born in 1973 or earlier will receive at least one component of the Majulah \\nPackage. The Package will benefit about 1.6 million Singaporeans. \\n \\nThe Majulah Package is estimated to cost $8.2 billion in total  lifetime costs. The Government \\nwill set aside $7.5 billion in a new Fund, the Majulah Package Fund, to fund these lifetime \\ncosts.  \\n \\n(A) Earn and Save Bonus (“ESB”) \\n \\nSingaporeans born in 1973 or earlier will receive the ESB if they meet the following criteria:  \\n \\n(i) Work and have an average monthly income of between $500 and $6,000;  \\n(ii) Live in a residence with Annual Value (“AV”) of $25,000 and below; and  \\n(iii) Own not more than one property.   \\n \\nEligibility for the ESB will be assessed annually, based on income from the preceding Year of \\nAssessment (employment and trade income) as well as AV and property ownership in the \\npreceding year.  \\n \\nThe ESB will be tiered by their average monthly income (see Table 1 below). The first annual \\nESB will be credited to their CPF Retirement Account ( “RA”) or Special Account (“SA”) in \\nMarch 2025.   \\n \\nTable 1: Quantum for the ESB \\nAverage Monthly Income1, 2 Annual Bonus3 \\n$500 to $2,500 $1,000 \\nAbove $2,500 to $3,500  $700 \\nAbove $3,500 to $6,000 $400 \\nNotes: \\n1. Refers to the average monthly income based on the number of months worked in the year. \\n2. Persons with disabilities, workers who qualify for ComCare Short -to-Medium Term Assistance and \\ncaregivers of care recipients (generally include caregivers residing with care recipients who are \\nmedically certified to have permanent moderate to severe disabi lities) will qualify for concessionary \\nESB of $400/year, even if they earn less than $500/month. \\n3. Paid to the CPF RA, or the SA if the RA has not been created.', mimetype='text/plain', start_char_idx=2, end_char_idx=2213, text_template='{metadata_str}\\n\\n{content}', metadata_template='{key}: {value}', metadata_seperator='\\n'), score=3.328733444213867)]\n",
      "---\n",
      "1 \n",
      "MINISTRY OF FINANCE \n",
      "ANNEX F-3: ONE-TIME MEDISAVE BONUS \n",
      " \n",
      "As part of the Government’s efforts to help Singaporeans offset healthcare costs and build up \n",
      "their medical savings for old age, we will provide a one -time MediSave Bonus to all adult \n",
      "Singaporeans between the ages 21 and 50 (born in 1974 – 2003). (Singaporeans born in 1973 \n",
      "or earlier will benefit from the MediSave Bonus component of the Majulah Package – see \n",
      "Annex F-2.) \n",
      " \n",
      "The bonus will be tiered by their year of birth,  the Annual Value (“AV”) of their residence, \n",
      "and whether they own more than one property as at 31 December 2023 (see Table 1 below), \n",
      "and will be credited to their CPF MediSave Account in December 2024.  \n",
      " \n",
      "Table 1: Bonus Quantum \n",
      "Singaporeans born in \n",
      "Own not more than 1 property Own more \n",
      "than 1 \n",
      "property \n",
      "AV of residence \n",
      "Not more than $25,000 More than $25,000 \n",
      "1974-1983 $300 $200  \n",
      "1984-2003 $200 $100 \n",
      " \n",
      "About 1.4 million Singaporeans will receive the bonus, which is estimated to cost $0.3 billion \n",
      "in total. Together with the MediSave Bonus under the Majulah Package for older Singaporeans, \n",
      "we will collectively provide support for the healthcare costs of about 3 million Singaporeans. \n",
      " \n",
      "More Information \n",
      "  \n",
      "Measure Contact Details \n",
      "One-Time MediSave Bonus Please contact the CPF Board at cpf.gov.sg/contact-us\n",
      "---------------\n",
      "1 \n",
      "MINISTRY OF FINANCE \n",
      "ANNEX F-2: MAJULAH PACKAGE \n",
      " \n",
      "The Majulah Package aims to provide Singapore Citizens born in 1973 or earlier, especially \n",
      "those born in 1960 to 1973 (“Young Seniors”, currently in their 50s and early 60s ), with an \n",
      "additional boost for their retirement. The Majulah Package comprises the following: \n",
      " \n",
      "(A) Annual Earn and Save Bonus; \n",
      "(B) One-time Retirement Savings Bonus; and \n",
      "(C) One-time MediSave Bonus.  \n",
      " \n",
      "Every Singaporean born in 1973 or earlier will receive at least one component of the Majulah \n",
      "Package. The Package will benefit about 1.6 million Singaporeans. \n",
      " \n",
      "The Majulah Package is estimated to cost $8.2 billion in total  lifetime costs. The Government \n",
      "will set aside $7.5 billion in a new Fund, the Majulah Package Fund, to fund these lifetime \n",
      "costs.  \n",
      " \n",
      "(A) Earn and Save Bonus (“ESB”) \n",
      " \n",
      "Singaporeans born in 1973 or earlier will receive the ESB if they meet the following criteria:  \n",
      " \n",
      "(i) Work and have an average monthly income of between $500 and $6,000;  \n",
      "(ii) Live in a residence with Annual Value (“AV”) of $25,000 and below; and  \n",
      "(iii) Own not more than one property.   \n",
      " \n",
      "Eligibility for the ESB will be assessed annually, based on income from the preceding Year of \n",
      "Assessment (employment and trade income) as well as AV and property ownership in the \n",
      "preceding year.  \n",
      " \n",
      "The ESB will be tiered by their average monthly income (see Table 1 below). The first annual \n",
      "ESB will be credited to their CPF Retirement Account ( “RA”) or Special Account (“SA”) in \n",
      "March 2025.   \n",
      " \n",
      "Table 1: Quantum for the ESB \n",
      "Average Monthly Income1, 2 Annual Bonus3 \n",
      "$500 to $2,500 $1,000 \n",
      "Above $2,500 to $3,500  $700 \n",
      "Above $3,500 to $6,000 $400 \n",
      "Notes: \n",
      "1. Refers to the average monthly income based on the number of months worked in the year. \n",
      "2. Persons with disabilities, workers who qualify for ComCare Short -to-Medium Term Assistance and \n",
      "caregivers of care recipients (generally include caregivers residing with care recipients who are \n",
      "medically certified to have permanent moderate to severe disabi lities) will qualify for concessionary \n",
      "ESB of $400/year, even if they earn less than $500/month. \n",
      "3. Paid to the CPF RA, or the SA if the RA has not been created.\n",
      "You are eligible for the MediSave Bonus in the Majulah Package if you are a Singaporean born in 1973 or earlier."
     ]
    }
   ],
   "source": [
    "# Run a query\n",
    "result = await w.run(query=\"Am I eligible for the MediSave Bonus in the Majulah Package?\")\n",
    "async for chunk in result.async_response_gen():\n",
    "    print(chunk, end=\"\", flush=True)"
   ]
  },
  {
   "cell_type": "code",
   "execution_count": null,
   "metadata": {},
   "outputs": [
    {
     "name": "stdout",
     "output_type": "stream",
     "text": [
      "Query the database with: Am I eligible for the MediSave Bonus in the Majulah Package?\n",
      "Retrieved 2 nodes.\n",
      "Am I eligible for the MediSave Bonus in the Majulah Package?\n"
     ]
    },
    {
     "name": "stderr",
     "output_type": "stream",
     "text": [
      "pre tokenize: 100%|██████████| 1/1 [00:00<00:00, 399.99it/s]\n",
      "c:\\Users\\weilu\\anaconda3\\envs\\budget-rag\\Lib\\site-packages\\transformers\\tokenization_utils_base.py:2888: UserWarning: `max_length` is ignored when `padding`=`True` and there is no truncation strategy. To pad to max length, use `padding='max_length'`.\n",
      "  warnings.warn(\n"
     ]
    },
    {
     "name": "stdout",
     "output_type": "stream",
     "text": [
      "Reranked nodes to 2\n",
      "[NodeWithScore(node=TextNode(id_='ff844bfa-b38c-4105-817d-8fef9dced7e6', embedding=None, metadata={'page_label': '1', 'file_name': 'annexf3.pdf', 'file_path': 'c:\\\\Users\\\\weilu\\\\Desktop\\\\AI Codes\\\\budget-rag\\\\data\\\\budget_statement_annex\\\\annexf3.pdf', 'file_type': 'application/pdf', 'file_size': 72890, 'creation_date': '2024-11-20', 'last_modified_date': '2024-11-20'}, excluded_embed_metadata_keys=['file_name', 'file_type', 'file_size', 'creation_date', 'last_modified_date', 'last_accessed_date'], excluded_llm_metadata_keys=['file_name', 'file_type', 'file_size', 'creation_date', 'last_modified_date', 'last_accessed_date'], relationships={<NodeRelationship.SOURCE: '1'>: RelatedNodeInfo(node_id='7f84bef4-e231-42f5-8922-9927d6c6dbee', node_type=<ObjectType.DOCUMENT: '4'>, metadata={'page_label': '1', 'file_name': 'annexf3.pdf', 'file_path': 'c:\\\\Users\\\\weilu\\\\Desktop\\\\AI Codes\\\\budget-rag\\\\data\\\\budget_statement_annex\\\\annexf3.pdf', 'file_type': 'application/pdf', 'file_size': 72890, 'creation_date': '2024-11-20', 'last_modified_date': '2024-11-20'}, hash='227a3791ae2d8fd5e39e783c002f945488144df7a1dfce4f0e5de01304385af2')}, text='1 \\nMINISTRY OF FINANCE \\nANNEX F-3: ONE-TIME MEDISAVE BONUS \\n \\nAs part of the Government’s efforts to help Singaporeans offset healthcare costs and build up \\ntheir medical savings for old age, we will provide a one -time MediSave Bonus to all adult \\nSingaporeans between the ages 21 and 50 (born in 1974 – 2003). (Singaporeans born in 1973 \\nor earlier will benefit from the MediSave Bonus component of the Majulah Package – see \\nAnnex F-2.) \\n \\nThe bonus will be tiered by their year of birth,  the Annual Value (“AV”) of their residence, \\nand whether they own more than one property as at 31 December 2023 (see Table 1 below), \\nand will be credited to their CPF MediSave Account in December 2024.  \\n \\nTable 1: Bonus Quantum \\nSingaporeans born in \\nOwn not more than 1 property Own more \\nthan 1 \\nproperty \\nAV of residence \\nNot more than $25,000 More than $25,000 \\n1974-1983 $300 $200  \\n1984-2003 $200 $100 \\n \\nAbout 1.4 million Singaporeans will receive the bonus, which is estimated to cost $0.3 billion \\nin total. Together with the MediSave Bonus under the Majulah Package for older Singaporeans, \\nwe will collectively provide support for the healthcare costs of about 3 million Singaporeans. \\n \\nMore Information \\n  \\nMeasure Contact Details \\nOne-Time MediSave Bonus Please contact the CPF Board at cpf.gov.sg/contact-us', mimetype='text/plain', start_char_idx=2, end_char_idx=1319, text_template='{metadata_str}\\n\\n{content}', metadata_template='{key}: {value}', metadata_seperator='\\n'), score=3.610903263092041), NodeWithScore(node=TextNode(id_='f1e29b71-bfdb-47de-be1e-2353a90652c9', embedding=None, metadata={'page_label': '1', 'file_name': 'annexf2.pdf', 'file_path': 'c:\\\\Users\\\\weilu\\\\Desktop\\\\AI Codes\\\\budget-rag\\\\data\\\\budget_statement_annex\\\\annexf2.pdf', 'file_type': 'application/pdf', 'file_size': 131302, 'creation_date': '2024-11-20', 'last_modified_date': '2024-11-20'}, excluded_embed_metadata_keys=['file_name', 'file_type', 'file_size', 'creation_date', 'last_modified_date', 'last_accessed_date'], excluded_llm_metadata_keys=['file_name', 'file_type', 'file_size', 'creation_date', 'last_modified_date', 'last_accessed_date'], relationships={<NodeRelationship.SOURCE: '1'>: RelatedNodeInfo(node_id='e1cd33f8-7676-43a0-9ada-542fa8b04ca6', node_type=<ObjectType.DOCUMENT: '4'>, metadata={'page_label': '1', 'file_name': 'annexf2.pdf', 'file_path': 'c:\\\\Users\\\\weilu\\\\Desktop\\\\AI Codes\\\\budget-rag\\\\data\\\\budget_statement_annex\\\\annexf2.pdf', 'file_type': 'application/pdf', 'file_size': 131302, 'creation_date': '2024-11-20', 'last_modified_date': '2024-11-20'}, hash='4f1c1fd24d4c3cfc6b15bb4273cfbe7d0caf7aa830f28aeb17a906700e830739')}, text='1 \\nMINISTRY OF FINANCE \\nANNEX F-2: MAJULAH PACKAGE \\n \\nThe Majulah Package aims to provide Singapore Citizens born in 1973 or earlier, especially \\nthose born in 1960 to 1973 (“Young Seniors”, currently in their 50s and early 60s ), with an \\nadditional boost for their retirement. The Majulah Package comprises the following: \\n \\n(A) Annual Earn and Save Bonus; \\n(B) One-time Retirement Savings Bonus; and \\n(C) One-time MediSave Bonus.  \\n \\nEvery Singaporean born in 1973 or earlier will receive at least one component of the Majulah \\nPackage. The Package will benefit about 1.6 million Singaporeans. \\n \\nThe Majulah Package is estimated to cost $8.2 billion in total  lifetime costs. The Government \\nwill set aside $7.5 billion in a new Fund, the Majulah Package Fund, to fund these lifetime \\ncosts.  \\n \\n(A) Earn and Save Bonus (“ESB”) \\n \\nSingaporeans born in 1973 or earlier will receive the ESB if they meet the following criteria:  \\n \\n(i) Work and have an average monthly income of between $500 and $6,000;  \\n(ii) Live in a residence with Annual Value (“AV”) of $25,000 and below; and  \\n(iii) Own not more than one property.   \\n \\nEligibility for the ESB will be assessed annually, based on income from the preceding Year of \\nAssessment (employment and trade income) as well as AV and property ownership in the \\npreceding year.  \\n \\nThe ESB will be tiered by their average monthly income (see Table 1 below). The first annual \\nESB will be credited to their CPF Retirement Account ( “RA”) or Special Account (“SA”) in \\nMarch 2025.   \\n \\nTable 1: Quantum for the ESB \\nAverage Monthly Income1, 2 Annual Bonus3 \\n$500 to $2,500 $1,000 \\nAbove $2,500 to $3,500  $700 \\nAbove $3,500 to $6,000 $400 \\nNotes: \\n1. Refers to the average monthly income based on the number of months worked in the year. \\n2. Persons with disabilities, workers who qualify for ComCare Short -to-Medium Term Assistance and \\ncaregivers of care recipients (generally include caregivers residing with care recipients who are \\nmedically certified to have permanent moderate to severe disabi lities) will qualify for concessionary \\nESB of $400/year, even if they earn less than $500/month. \\n3. Paid to the CPF RA, or the SA if the RA has not been created.', mimetype='text/plain', start_char_idx=2, end_char_idx=2213, text_template='{metadata_str}\\n\\n{content}', metadata_template='{key}: {value}', metadata_seperator='\\n'), score=3.328733444213867)]\n",
      "---\n",
      "1 \n",
      "MINISTRY OF FINANCE \n",
      "ANNEX F-3: ONE-TIME MEDISAVE BONUS \n",
      " \n",
      "As part of the Government’s efforts to help Singaporeans offset healthcare costs and build up \n",
      "their medical savings for old age, we will provide a one -time MediSave Bonus to all adult \n",
      "Singaporeans between the ages 21 and 50 (born in 1974 – 2003). (Singaporeans born in 1973 \n",
      "or earlier will benefit from the MediSave Bonus component of the Majulah Package – see \n",
      "Annex F-2.) \n",
      " \n",
      "The bonus will be tiered by their year of birth,  the Annual Value (“AV”) of their residence, \n",
      "and whether they own more than one property as at 31 December 2023 (see Table 1 below), \n",
      "and will be credited to their CPF MediSave Account in December 2024.  \n",
      " \n",
      "Table 1: Bonus Quantum \n",
      "Singaporeans born in \n",
      "Own not more than 1 property Own more \n",
      "than 1 \n",
      "property \n",
      "AV of residence \n",
      "Not more than $25,000 More than $25,000 \n",
      "1974-1983 $300 $200  \n",
      "1984-2003 $200 $100 \n",
      " \n",
      "About 1.4 million Singaporeans will receive the bonus, which is estimated to cost $0.3 billion \n",
      "in total. Together with the MediSave Bonus under the Majulah Package for older Singaporeans, \n",
      "we will collectively provide support for the healthcare costs of about 3 million Singaporeans. \n",
      " \n",
      "More Information \n",
      "  \n",
      "Measure Contact Details \n",
      "One-Time MediSave Bonus Please contact the CPF Board at cpf.gov.sg/contact-us\n",
      "---------------\n",
      "1 \n",
      "MINISTRY OF FINANCE \n",
      "ANNEX F-2: MAJULAH PACKAGE \n",
      " \n",
      "The Majulah Package aims to provide Singapore Citizens born in 1973 or earlier, especially \n",
      "those born in 1960 to 1973 (“Young Seniors”, currently in their 50s and early 60s ), with an \n",
      "additional boost for their retirement. The Majulah Package comprises the following: \n",
      " \n",
      "(A) Annual Earn and Save Bonus; \n",
      "(B) One-time Retirement Savings Bonus; and \n",
      "(C) One-time MediSave Bonus.  \n",
      " \n",
      "Every Singaporean born in 1973 or earlier will receive at least one component of the Majulah \n",
      "Package. The Package will benefit about 1.6 million Singaporeans. \n",
      " \n",
      "The Majulah Package is estimated to cost $8.2 billion in total  lifetime costs. The Government \n",
      "will set aside $7.5 billion in a new Fund, the Majulah Package Fund, to fund these lifetime \n",
      "costs.  \n",
      " \n",
      "(A) Earn and Save Bonus (“ESB”) \n",
      " \n",
      "Singaporeans born in 1973 or earlier will receive the ESB if they meet the following criteria:  \n",
      " \n",
      "(i) Work and have an average monthly income of between $500 and $6,000;  \n",
      "(ii) Live in a residence with Annual Value (“AV”) of $25,000 and below; and  \n",
      "(iii) Own not more than one property.   \n",
      " \n",
      "Eligibility for the ESB will be assessed annually, based on income from the preceding Year of \n",
      "Assessment (employment and trade income) as well as AV and property ownership in the \n",
      "preceding year.  \n",
      " \n",
      "The ESB will be tiered by their average monthly income (see Table 1 below). The first annual \n",
      "ESB will be credited to their CPF Retirement Account ( “RA”) or Special Account (“SA”) in \n",
      "March 2025.   \n",
      " \n",
      "Table 1: Quantum for the ESB \n",
      "Average Monthly Income1, 2 Annual Bonus3 \n",
      "$500 to $2,500 $1,000 \n",
      "Above $2,500 to $3,500  $700 \n",
      "Above $3,500 to $6,000 $400 \n",
      "Notes: \n",
      "1. Refers to the average monthly income based on the number of months worked in the year. \n",
      "2. Persons with disabilities, workers who qualify for ComCare Short -to-Medium Term Assistance and \n",
      "caregivers of care recipients (generally include caregivers residing with care recipients who are \n",
      "medically certified to have permanent moderate to severe disabi lities) will qualify for concessionary \n",
      "ESB of $400/year, even if they earn less than $500/month. \n",
      "3. Paid to the CPF RA, or the SA if the RA has not been created.\n",
      "You are eligible for the MediSave Bonus in the Majulah Package if you are a Singaporean born in 1973 or earlier."
     ]
    }
   ],
   "source": [
    "# Run a query\n",
    "result = await w.run(query=\"How much MediSave Bonus can I get from the Majulah Package?\")\n",
    "async for chunk in result.async_response_gen():\n",
    "    print(chunk, end=\"\", flush=True)"
   ]
  },
  {
   "cell_type": "code",
   "execution_count": null,
   "metadata": {},
   "outputs": [
    {
     "name": "stdout",
     "output_type": "stream",
     "text": [
      "Query the database with: What are the Key reasons for high inflation over the last two years?\n",
      "Retrieved 2 nodes.\n",
      "What are the Key reasons for high inflation over the last two years?\n"
     ]
    },
    {
     "name": "stderr",
     "output_type": "stream",
     "text": [
      "pre tokenize: 100%|██████████| 1/1 [00:00<00:00, 499.68it/s]\n",
      "c:\\Users\\weilu\\anaconda3\\envs\\budget-rag\\Lib\\site-packages\\transformers\\tokenization_utils_base.py:2888: UserWarning: `max_length` is ignored when `padding`=`True` and there is no truncation strategy. To pad to max length, use `padding='max_length'`.\n",
      "  warnings.warn(\n"
     ]
    },
    {
     "name": "stdout",
     "output_type": "stream",
     "text": [
      "Reranked nodes to 2\n",
      "[NodeWithScore(node=TextNode(id_='7f0c1b43-6ed2-49c7-bedd-76aa0497d49e', embedding=None, metadata={'page_label': '3', 'file_name': 'fy2024_budget_debate_round_up_speech.pdf', 'file_path': 'c:\\\\Users\\\\weilu\\\\Desktop\\\\AI Codes\\\\budget-rag\\\\data\\\\statement_and_speech\\\\fy2024_budget_debate_round_up_speech.pdf', 'file_type': 'application/pdf', 'file_size': 483783, 'creation_date': '2024-11-20', 'last_modified_date': '2024-11-20'}, excluded_embed_metadata_keys=['file_name', 'file_type', 'file_size', 'creation_date', 'last_modified_date', 'last_accessed_date'], excluded_llm_metadata_keys=['file_name', 'file_type', 'file_size', 'creation_date', 'last_modified_date', 'last_accessed_date'], relationships={<NodeRelationship.SOURCE: '1'>: RelatedNodeInfo(node_id='df8e62de-6922-4a0d-88e7-a0690b2f0adc', node_type=<ObjectType.DOCUMENT: '4'>, metadata={'page_label': '3', 'file_name': 'fy2024_budget_debate_round_up_speech.pdf', 'file_path': 'c:\\\\Users\\\\weilu\\\\Desktop\\\\AI Codes\\\\budget-rag\\\\data\\\\statement_and_speech\\\\fy2024_budget_debate_round_up_speech.pdf', 'file_type': 'application/pdf', 'file_size': 483783, 'creation_date': '2024-11-20', 'last_modified_date': '2024-11-20'}, hash='3d590187cc4c94f210318cfc3e1a894384c8c0d78cf3abe31a1f3f4428517a63')}, text='Page 3 of 56 \\n \\nB. Are we doing enough to help Singaporeans cope with inflation?  \\n \\n5. First, on helping Singaporeans cope with inflation and cost \\npressures.  Several Members, including Mr Yip Hon Weng, Mr Gan \\nThiam Poh, Mr Henry Kwek, Ms Hazel Poa and many others, spoke \\nabout this.   \\n \\n6. Let us start by looking at the reasons for high inflation over the \\nlast two years.  These reasons are certainly not unique to Singapore.  \\nFor more than a decade before Covid, global inflation was generally \\nstable, hovering at around 4% per annum. Singapore enjoyed relatively \\nstable inflation too, and in most years, it was lower than global inflation.  \\n \\n7. But in 2021, prices in global food, goods, and energy markets rose \\nquickly, as strong demand came up against constrained supply due to \\npandemic-related restrictions.  \\n \\n8. Then the Russia-Ukraine war broke out in early 2022. The two \\ncountries are major suppliers of key commodities, like oil and gas, \\nfertiliser, and wheat. This brought about a further surge in prices.  Many \\ncountries also saw a surge in demand for domestic services, and did not \\nhave sufficient workers to meet the demand.', mimetype='text/plain', start_char_idx=2, end_char_idx=1160, text_template='{metadata_str}\\n\\n{content}', metadata_template='{key}: {value}', metadata_seperator='\\n'), score=3.4814276695251465), NodeWithScore(node=TextNode(id_='358a8101-09b7-450d-8ba0-ebc219f00b2f', embedding=None, metadata={'page_label': '4', 'file_name': 'fy2024_budget_debate_round_up_speech.pdf', 'file_path': 'c:\\\\Users\\\\weilu\\\\Desktop\\\\AI Codes\\\\budget-rag\\\\data\\\\statement_and_speech\\\\fy2024_budget_debate_round_up_speech.pdf', 'file_type': 'application/pdf', 'file_size': 483783, 'creation_date': '2024-11-20', 'last_modified_date': '2024-11-20'}, excluded_embed_metadata_keys=['file_name', 'file_type', 'file_size', 'creation_date', 'last_modified_date', 'last_accessed_date'], excluded_llm_metadata_keys=['file_name', 'file_type', 'file_size', 'creation_date', 'last_modified_date', 'last_accessed_date'], relationships={<NodeRelationship.SOURCE: '1'>: RelatedNodeInfo(node_id='88966226-4920-469c-9ed1-f5e4b1d50ff4', node_type=<ObjectType.DOCUMENT: '4'>, metadata={'page_label': '4', 'file_name': 'fy2024_budget_debate_round_up_speech.pdf', 'file_path': 'c:\\\\Users\\\\weilu\\\\Desktop\\\\AI Codes\\\\budget-rag\\\\data\\\\statement_and_speech\\\\fy2024_budget_debate_round_up_speech.pdf', 'file_type': 'application/pdf', 'file_size': 483783, 'creation_date': '2024-11-20', 'last_modified_date': '2024-11-20'}, hash='92321d718622d4cc308617d29d076044b2790dc7b6430964993f6e7245fd3c33')}, text='Page 4 of 56 \\n \\n \\n9. These are the key drivers of inflation everywhere. Singapore, like \\nall other countries, felt the impact too.   \\n \\n10. Even so, inflation in Singapore did not reach the peaks seen in \\nseveral parts of the world.  \\n \\n11. One reason was effective monetary policy. MAS tightened \\nmonetary policy five consecutive times starting in October 2021. This \\nmeant allowing the Singapore dollar to appreciate more quickly, which \\nhelped to shield us against the sharp spike in imported inflation. Had \\nMAS not acted, core inflation for the whole of 2023 would have been \\n6.6%, instead of 4.2%. \\n \\n12. Other major central banks acted too.   \\n \\n13. With the overall monetary tightening and the stabilisation of \\nsupply chains, significant headway has been made in bringing inflation \\ndown around the world.  \\n \\n14. Overall inflation has come down, in line with the rest of the world. \\nIn Singapore, our headline inflation was already moderating since last', mimetype='text/plain', start_char_idx=2, end_char_idx=965, text_template='{metadata_str}\\n\\n{content}', metadata_template='{key}: {value}', metadata_seperator='\\n'), score=-5.053859233856201)]\n",
      "---\n",
      "Page 3 of 56 \n",
      " \n",
      "B. Are we doing enough to help Singaporeans cope with inflation?  \n",
      " \n",
      "5. First, on helping Singaporeans cope with inflation and cost \n",
      "pressures.  Several Members, including Mr Yip Hon Weng, Mr Gan \n",
      "Thiam Poh, Mr Henry Kwek, Ms Hazel Poa and many others, spoke \n",
      "about this.   \n",
      " \n",
      "6. Let us start by looking at the reasons for high inflation over the \n",
      "last two years.  These reasons are certainly not unique to Singapore.  \n",
      "For more than a decade before Covid, global inflation was generally \n",
      "stable, hovering at around 4% per annum. Singapore enjoyed relatively \n",
      "stable inflation too, and in most years, it was lower than global inflation.  \n",
      " \n",
      "7. But in 2021, prices in global food, goods, and energy markets rose \n",
      "quickly, as strong demand came up against constrained supply due to \n",
      "pandemic-related restrictions.  \n",
      " \n",
      "8. Then the Russia-Ukraine war broke out in early 2022. The two \n",
      "countries are major suppliers of key commodities, like oil and gas, \n",
      "fertiliser, and wheat. This brought about a further surge in prices.  Many \n",
      "countries also saw a surge in demand for domestic services, and did not \n",
      "have sufficient workers to meet the demand.\n",
      "---------------\n",
      "Page 4 of 56 \n",
      " \n",
      " \n",
      "9. These are the key drivers of inflation everywhere. Singapore, like \n",
      "all other countries, felt the impact too.   \n",
      " \n",
      "10. Even so, inflation in Singapore did not reach the peaks seen in \n",
      "several parts of the world.  \n",
      " \n",
      "11. One reason was effective monetary policy. MAS tightened \n",
      "monetary policy five consecutive times starting in October 2021. This \n",
      "meant allowing the Singapore dollar to appreciate more quickly, which \n",
      "helped to shield us against the sharp spike in imported inflation. Had \n",
      "MAS not acted, core inflation for the whole of 2023 would have been \n",
      "6.6%, instead of 4.2%. \n",
      " \n",
      "12. Other major central banks acted too.   \n",
      " \n",
      "13. With the overall monetary tightening and the stabilisation of \n",
      "supply chains, significant headway has been made in bringing inflation \n",
      "down around the world.  \n",
      " \n",
      "14. Overall inflation has come down, in line with the rest of the world. \n",
      "In Singapore, our headline inflation was already moderating since last\n",
      "------------------------------\n",
      "Global inflation was generally stable for more than a decade before Covid, hovering at around 4% per annum. However, in 2021, prices in global food, goods, and energy markets rose quickly due to strong demand meeting constrained supply caused by pandemic-related restrictions. Additionally, the Russia-Ukraine war in early 2022 further escalated prices as these countries are major suppliers of key commodities like oil, gas, fertiliser, and wheat. This surge in prices was also influenced by a rise in demand for domestic services in many countries without sufficient workers to meet the demand."
     ]
    }
   ],
   "source": [
    "# Ingest the documents\n",
    "w_speech = RAGWorkflow(\n",
    "    llm=llm,\n",
    "    embed_model=embed_model,\n",
    "    reranker_model=reranker_model\n",
    ")\n",
    "await w_speech.run(dirname=\"../data/budget_statement_and_speech\")\n",
    "\n",
    "# Run a query\n",
    "result = await w_speech.run(query=\"What are the Key reasons for high inflation over the last two years?\")\n",
    "print(\"------------------------------\")\n",
    "async for chunk in result.async_response_gen():\n",
    "    print(chunk, end=\"\", flush=True)"
   ]
  },
  {
   "cell_type": "code",
   "execution_count": null,
   "metadata": {},
   "outputs": [
    {
     "name": "stdout",
     "output_type": "stream",
     "text": [
      "Query the database with: What are the payouts I can expect to receive in December 2024?\n",
      "Retrieved 2 nodes.\n",
      "What are the payouts I can expect to receive in December 2024?\n"
     ]
    },
    {
     "name": "stderr",
     "output_type": "stream",
     "text": [
      "pre tokenize: 100%|██████████| 1/1 [00:00<00:00, 876.00it/s]\n"
     ]
    },
    {
     "name": "stdout",
     "output_type": "stream",
     "text": [
      "Reranked nodes to 2\n",
      "[NodeWithScore(node=TextNode(id_='312dfc48-ebc6-4790-98d3-e36ff317fdd3', embedding=None, metadata={'page_label': '9', 'file_name': 'fy2024_infographic_budget_booklet_english.pdf', 'file_path': 'c:\\\\Users\\\\weilu\\\\Desktop\\\\AI Codes\\\\budget-rag\\\\data\\\\booklet\\\\fy2024_infographic_budget_booklet_english.pdf', 'file_type': 'application/pdf', 'file_size': 5987411, 'creation_date': '2024-11-20', 'last_modified_date': '2024-11-20'}, excluded_embed_metadata_keys=['file_name', 'file_type', 'file_size', 'creation_date', 'last_modified_date', 'last_accessed_date'], excluded_llm_metadata_keys=['file_name', 'file_type', 'file_size', 'creation_date', 'last_modified_date', 'last_accessed_date'], relationships={<NodeRelationship.SOURCE: '1'>: RelatedNodeInfo(node_id='21568ed7-ceac-439e-8e65-ce8ed1181099', node_type=<ObjectType.DOCUMENT: '4'>, metadata={'page_label': '9', 'file_name': 'fy2024_infographic_budget_booklet_english.pdf', 'file_path': 'c:\\\\Users\\\\weilu\\\\Desktop\\\\AI Codes\\\\budget-rag\\\\data\\\\booklet\\\\fy2024_infographic_budget_booklet_english.pdf', 'file_type': 'application/pdf', 'file_size': 5987411, 'creation_date': '2024-11-20', 'last_modified_date': '2024-11-20'}, hash='e2a1d7af31e59a121b001e78eb8abe9b744381b02b36809485cdb23071bd8092')}, text='Retirement Savings Bonus (Dec 2024)\\n$1,000 to $1,500 one-off bonus to CPF Retirement or \\nSpecial Account for Singaporeans with CPF retirement \\nsavings less than the 2023 Basic Retirement Sum \\n($99,400)\\nMediSave Bonus (Dec 2024)\\n$750 to $1,500 one-off bonus to CPF MediSave Account\\n$400 to $1,000 annual bonus to CPF Retirement or \\nSpecial Account for Singaporeans who work and earn \\nup to $6,000 per month\\nEarn and Save Bonus (from Mar 2025)\\nMAJULAH PACKAGE\\nFor Singaporeans born in 1973 or earlier\\n$8.2 billion \\n$\\n$\\n $\\n$$ $\\nfor retirement and\\nhealthcare needs\\n1.6 million\\nSingaporeans, including Pioneer \\nand Merdeka Generation seniors\\nNote: Beneﬁts are subject to the individual’s eligibility.\\n9', mimetype='text/plain', start_char_idx=0, end_char_idx=697, text_template='{metadata_str}\\n\\n{content}', metadata_template='{key}: {value}', metadata_seperator='\\n'), score=-0.9623292684555054), NodeWithScore(node=TextNode(id_='b6523a2d-7a55-4cc2-a05f-9b4ef5366dc0', embedding=None, metadata={'page_label': '16', 'file_name': 'fy2024_infographic_budget_booklet_english.pdf', 'file_path': 'c:\\\\Users\\\\weilu\\\\Desktop\\\\AI Codes\\\\budget-rag\\\\data\\\\booklet\\\\fy2024_infographic_budget_booklet_english.pdf', 'file_type': 'application/pdf', 'file_size': 5987411, 'creation_date': '2024-11-20', 'last_modified_date': '2024-11-20'}, excluded_embed_metadata_keys=['file_name', 'file_type', 'file_size', 'creation_date', 'last_modified_date', 'last_accessed_date'], excluded_llm_metadata_keys=['file_name', 'file_type', 'file_size', 'creation_date', 'last_modified_date', 'last_accessed_date'], relationships={<NodeRelationship.SOURCE: '1'>: RelatedNodeInfo(node_id='f3c25a02-f2ea-488f-8603-ca3765f7008e', node_type=<ObjectType.DOCUMENT: '4'>, metadata={'page_label': '16', 'file_name': 'fy2024_infographic_budget_booklet_english.pdf', 'file_path': 'c:\\\\Users\\\\weilu\\\\Desktop\\\\AI Codes\\\\budget-rag\\\\data\\\\booklet\\\\fy2024_infographic_budget_booklet_english.pdf', 'file_type': 'application/pdf', 'file_size': 5987411, 'creation_date': '2024-11-20', 'last_modified_date': '2024-11-20'}, hash='2b6194a8c5551cc220c672ecb4881f37fa3f478c2a819cbc4c9ddee5982671a0')}, text='Lower-wage Workers \\nRaise the Local Qualifying \\nSalary  to $1,600, from Jul 2024\\nIncrease the Workfare \\nIncome Supplement scheme \\npayouts to a maximum of \\n$4,900 per year, and raise \\nqualifying income cap to \\n$3,000, from Jan 2025\\nRaise co-funding levels for the Progressive Wage \\nCredit Scheme (PWCS) this year to a maximum of \\n50%, and raise the PWCS wage ceiling to $3,000 in \\n2025\\nIntroduce the ITE Progression Award  for younger \\nITE graduates pursuing diploma qualiﬁcation     \\nUpon enrolment, top up $5,000 to Post-Secondary \\nEducation Account\\nUpon completion, top up $10,000 to CPF Ordinary \\nAccount\\nITE Graduates\\n16', mimetype='text/plain', start_char_idx=0, end_char_idx=624, text_template='{metadata_str}\\n\\n{content}', metadata_template='{key}: {value}', metadata_seperator='\\n'), score=-4.102672100067139)]\n",
      "---\n",
      "Retirement Savings Bonus (Dec 2024)\n",
      "$1,000 to $1,500 one-off bonus to CPF Retirement or \n",
      "Special Account for Singaporeans with CPF retirement \n",
      "savings less than the 2023 Basic Retirement Sum \n",
      "($99,400)\n",
      "MediSave Bonus (Dec 2024)\n",
      "$750 to $1,500 one-off bonus to CPF MediSave Account\n",
      "$400 to $1,000 annual bonus to CPF Retirement or \n",
      "Special Account for Singaporeans who work and earn \n",
      "up to $6,000 per month\n",
      "Earn and Save Bonus (from Mar 2025)\n",
      "MAJULAH PACKAGE\n",
      "For Singaporeans born in 1973 or earlier\n",
      "$8.2 billion \n",
      "$\n",
      "$\n",
      " $\n",
      "$$ $\n",
      "for retirement and\n",
      "healthcare needs\n",
      "1.6 million\n",
      "Singaporeans, including Pioneer \n",
      "and Merdeka Generation seniors\n",
      "Note: Beneﬁts are subject to the individual’s eligibility.\n",
      "9\n",
      "---------------\n",
      "Lower-wage Workers \n",
      "Raise the Local Qualifying \n",
      "Salary  to $1,600, from Jul 2024\n",
      "Increase the Workfare \n",
      "Income Supplement scheme \n",
      "payouts to a maximum of \n",
      "$4,900 per year, and raise \n",
      "qualifying income cap to \n",
      "$3,000, from Jan 2025\n",
      "Raise co-funding levels for the Progressive Wage \n",
      "Credit Scheme (PWCS) this year to a maximum of \n",
      "50%, and raise the PWCS wage ceiling to $3,000 in \n",
      "2025\n",
      "Introduce the ITE Progression Award  for younger \n",
      "ITE graduates pursuing diploma qualiﬁcation     \n",
      "Upon enrolment, top up $5,000 to Post-Secondary \n",
      "Education Account\n",
      "Upon completion, top up $10,000 to CPF Ordinary \n",
      "Account\n",
      "ITE Graduates\n",
      "16\n",
      "------------------------------\n",
      "In December 2024, you can expect to receive a one-off bonus of $1,000 to $1,500 to your CPF Retirement or Special Account if you have CPF retirement savings less than the 2023 Basic Retirement Sum ($99,400). Additionally, you may receive a one-off bonus of $750 to $1,500 to your CPF MediSave Account."
     ]
    }
   ],
   "source": [
    "# Ingest the documents\n",
    "w_booklet = RAGWorkflow(\n",
    "    llm=llm,\n",
    "    embed_model=embed_model,\n",
    "    reranker_model=reranker_model\n",
    ")\n",
    "await w_booklet.run(dirname=\"../data/booklet\")\n",
    "\n",
    "# Run a query\n",
    "result = await w_booklet.run(query=\"What are the payouts I can expect to receive in December 2024?\")\n",
    "print(\"------------------------------\")\n",
    "async for chunk in result.async_response_gen():\n",
    "    print(chunk, end=\"\", flush=True)"
   ]
  }
 ],
 "metadata": {
  "kernelspec": {
   "display_name": "budget-rag",
   "language": "python",
   "name": "python3"
  },
  "language_info": {
   "codemirror_mode": {
    "name": "ipython",
    "version": 3
   },
   "file_extension": ".py",
   "mimetype": "text/x-python",
   "name": "python",
   "nbconvert_exporter": "python",
   "pygments_lexer": "ipython3",
   "version": "3.11.10"
  }
 },
 "nbformat": 4,
 "nbformat_minor": 2
}
